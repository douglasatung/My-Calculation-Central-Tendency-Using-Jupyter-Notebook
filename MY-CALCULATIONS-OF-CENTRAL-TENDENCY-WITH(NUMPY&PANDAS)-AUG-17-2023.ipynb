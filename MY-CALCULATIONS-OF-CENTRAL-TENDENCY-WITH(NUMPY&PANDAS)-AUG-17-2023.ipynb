{
 "cells": [
  {
   "cell_type": "code",
   "execution_count": 8,
   "id": "12f6c5a5-7ccb-4187-b337-56bd9336e966",
   "metadata": {},
   "outputs": [
    {
     "name": "stdin",
     "output_type": "stream",
     "text": [
      "Enter a message:  Level\n"
     ]
    },
    {
     "name": "stdout",
     "output_type": "stream",
     "text": [
      "True\n"
     ]
    }
   ],
   "source": [
    "#CALCULATION OF CENTRAL TENDENCY AND OTHERS\n",
    "\n",
    "message = input(\"Enter a message: \")\n",
    "\n",
    "output = str()\n",
    "\n",
    "#def check_palindrome(message):\n",
    "for char in message:\n",
    "        if char.isalpha():\n",
    "            output += char.lower()\n",
    "print(output[::-1] == output)"
   ]
  },
  {
   "cell_type": "code",
   "execution_count": 13,
   "id": "d8cbf778-2447-4ecd-9183-6da665916123",
   "metadata": {},
   "outputs": [],
   "source": [
    "#def greet(name:str):\n",
    "    #print(\"Hello {}\" + name)\n",
    "#def sqr(x):\n",
    "    #return x**2"
   ]
  },
  {
   "cell_type": "code",
   "execution_count": 18,
   "id": "07c139a0-7ea1-42ea-b03b-afa43af790e7",
   "metadata": {},
   "outputs": [],
   "source": [
    "def power(x, y=2):\n",
    "    return x**2"
   ]
  },
  {
   "cell_type": "code",
   "execution_count": 19,
   "id": "f407b30d-59c0-43b0-bab3-fca3decc2d98",
   "metadata": {},
   "outputs": [],
   "source": [
    "import numpy as np"
   ]
  },
  {
   "cell_type": "code",
   "execution_count": 20,
   "id": "1ba68e47-c9c8-46d4-9870-6462db86f73a",
   "metadata": {},
   "outputs": [],
   "source": [
    "age = [9,8,12,6,4,9]"
   ]
  },
  {
   "cell_type": "code",
   "execution_count": 21,
   "id": "c2faba5f-e1b8-4b0e-82ff-20f913e48f03",
   "metadata": {},
   "outputs": [
    {
     "data": {
      "text/plain": [
       "8.0"
      ]
     },
     "execution_count": 21,
     "metadata": {},
     "output_type": "execute_result"
    }
   ],
   "source": [
    "np.mean(age)"
   ]
  },
  {
   "cell_type": "code",
   "execution_count": 22,
   "id": "5b329cc6-9907-44d5-9265-3dfe63462c51",
   "metadata": {},
   "outputs": [
    {
     "data": {
      "text/plain": [
       "2.516611478423583"
      ]
     },
     "execution_count": 22,
     "metadata": {},
     "output_type": "execute_result"
    }
   ],
   "source": [
    "np.std(age)"
   ]
  },
  {
   "cell_type": "code",
   "execution_count": 24,
   "id": "b16361a7-720d-470b-834d-a36ca4bb211e",
   "metadata": {},
   "outputs": [
    {
     "data": {
      "text/plain": [
       "8.5"
      ]
     },
     "execution_count": 24,
     "metadata": {},
     "output_type": "execute_result"
    }
   ],
   "source": [
    "np.median(age)"
   ]
  },
  {
   "cell_type": "code",
   "execution_count": 25,
   "id": "de2a4f4d-d4f1-428f-a81d-f31681f8f43f",
   "metadata": {},
   "outputs": [],
   "source": [
    "import pandas as pd"
   ]
  },
  {
   "cell_type": "code",
   "execution_count": 26,
   "id": "7a02980e-8a3f-466b-b911-ecb8fca84698",
   "metadata": {},
   "outputs": [],
   "source": [
    "age = [25,65,56,45,28,63,12]"
   ]
  },
  {
   "cell_type": "code",
   "execution_count": 31,
   "id": "67558c25-e269-418c-9521-1b9c2a97d21b",
   "metadata": {},
   "outputs": [],
   "source": [
    "#importing statistics to find mode value of the ages\n",
    "import statistics as st"
   ]
  },
  {
   "cell_type": "code",
   "execution_count": 33,
   "id": "50fa08ef-4cfe-401e-9b3a-daf351c65548",
   "metadata": {},
   "outputs": [
    {
     "data": {
      "text/plain": [
       "25"
      ]
     },
     "execution_count": 33,
     "metadata": {},
     "output_type": "execute_result"
    }
   ],
   "source": [
    "st.mode(age)"
   ]
  },
  {
   "cell_type": "code",
   "execution_count": 34,
   "id": "aff3929d-e5bf-4dda-8fa0-1740110bdee7",
   "metadata": {},
   "outputs": [],
   "source": [
    "n_age = np.array(age)"
   ]
  },
  {
   "cell_type": "code",
   "execution_count": 35,
   "id": "62bd9c6f-c7f7-4a3a-b448-e410b77afce7",
   "metadata": {},
   "outputs": [
    {
     "data": {
      "text/plain": [
       "array([ 50, 130, 112,  90,  56, 126,  24])"
      ]
     },
     "execution_count": 35,
     "metadata": {},
     "output_type": "execute_result"
    }
   ],
   "source": [
    "#to multiply my ages by 2\n",
    "n_age * 2\n",
    "#I also understood that i can use different"
   ]
  },
  {
   "cell_type": "code",
   "execution_count": null,
   "id": "07a9cfe3-e561-4724-a7b5-261eff4dae9b",
   "metadata": {},
   "outputs": [],
   "source": []
  }
 ],
 "metadata": {
  "kernelspec": {
   "display_name": "Python 3 (ipykernel)",
   "language": "python",
   "name": "python3"
  },
  "language_info": {
   "codemirror_mode": {
    "name": "ipython",
    "version": 3
   },
   "file_extension": ".py",
   "mimetype": "text/x-python",
   "name": "python",
   "nbconvert_exporter": "python",
   "pygments_lexer": "ipython3",
   "version": "3.10.10"
  }
 },
 "nbformat": 4,
 "nbformat_minor": 5
}
